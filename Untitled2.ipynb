{
 "cells": [
  {
   "cell_type": "code",
   "execution_count": 1,
   "id": "35ec6dc9",
   "metadata": {},
   "outputs": [],
   "source": [
    "import pandas as pd\n",
    "import yfinance as yf\n",
    "import datetime\n",
    "from datetime import date, timedelta\n"
   ]
  },
  {
   "cell_type": "code",
   "execution_count": 2,
   "id": "0036eddd",
   "metadata": {},
   "outputs": [],
   "source": [
    "end_date = \"2023-09-03\"\n",
    "start_date = \"2019-09-02\""
   ]
  },
  {
   "cell_type": "code",
   "execution_count": 3,
   "id": "01f9c72b",
   "metadata": {},
   "outputs": [
    {
     "data": {
      "text/html": [
       "<div>\n",
       "<style scoped>\n",
       "    .dataframe tbody tr th:only-of-type {\n",
       "        vertical-align: middle;\n",
       "    }\n",
       "\n",
       "    .dataframe tbody tr th {\n",
       "        vertical-align: top;\n",
       "    }\n",
       "\n",
       "    .dataframe thead th {\n",
       "        text-align: right;\n",
       "    }\n",
       "</style>\n",
       "<table border=\"1\" class=\"dataframe\">\n",
       "  <thead>\n",
       "    <tr style=\"text-align: right;\">\n",
       "      <th></th>\n",
       "      <th>Date</th>\n",
       "      <th>Open</th>\n",
       "      <th>High</th>\n",
       "      <th>Low</th>\n",
       "      <th>Close</th>\n",
       "      <th>Adj Close</th>\n",
       "      <th>Volume</th>\n",
       "    </tr>\n",
       "  </thead>\n",
       "  <tbody>\n",
       "    <tr>\n",
       "      <th>0</th>\n",
       "      <td>2019-09-02</td>\n",
       "      <td>171.697601</td>\n",
       "      <td>180.145218</td>\n",
       "      <td>170.451691</td>\n",
       "      <td>178.347351</td>\n",
       "      <td>178.347351</td>\n",
       "      <td>6503447137</td>\n",
       "    </tr>\n",
       "    <tr>\n",
       "      <th>1</th>\n",
       "      <td>2019-09-03</td>\n",
       "      <td>178.357758</td>\n",
       "      <td>182.347992</td>\n",
       "      <td>175.970169</td>\n",
       "      <td>179.499329</td>\n",
       "      <td>179.499329</td>\n",
       "      <td>6962728938</td>\n",
       "    </tr>\n",
       "    <tr>\n",
       "      <th>2</th>\n",
       "      <td>2019-09-04</td>\n",
       "      <td>179.491989</td>\n",
       "      <td>180.136597</td>\n",
       "      <td>175.325363</td>\n",
       "      <td>175.992889</td>\n",
       "      <td>175.992889</td>\n",
       "      <td>5938120494</td>\n",
       "    </tr>\n",
       "    <tr>\n",
       "      <th>3</th>\n",
       "      <td>2019-09-05</td>\n",
       "      <td>175.966278</td>\n",
       "      <td>176.163910</td>\n",
       "      <td>171.746826</td>\n",
       "      <td>174.217133</td>\n",
       "      <td>174.217133</td>\n",
       "      <td>5589476516</td>\n",
       "    </tr>\n",
       "    <tr>\n",
       "      <th>4</th>\n",
       "      <td>2019-09-06</td>\n",
       "      <td>174.172226</td>\n",
       "      <td>177.718704</td>\n",
       "      <td>168.341339</td>\n",
       "      <td>169.956177</td>\n",
       "      <td>169.956177</td>\n",
       "      <td>6797611878</td>\n",
       "    </tr>\n",
       "    <tr>\n",
       "      <th>...</th>\n",
       "      <td>...</td>\n",
       "      <td>...</td>\n",
       "      <td>...</td>\n",
       "      <td>...</td>\n",
       "      <td>...</td>\n",
       "      <td>...</td>\n",
       "      <td>...</td>\n",
       "    </tr>\n",
       "    <tr>\n",
       "      <th>1457</th>\n",
       "      <td>2023-08-29</td>\n",
       "      <td>1652.274170</td>\n",
       "      <td>1742.637329</td>\n",
       "      <td>1639.576172</td>\n",
       "      <td>1729.725708</td>\n",
       "      <td>1729.725708</td>\n",
       "      <td>11304916729</td>\n",
       "    </tr>\n",
       "    <tr>\n",
       "      <th>1458</th>\n",
       "      <td>2023-08-30</td>\n",
       "      <td>1729.676636</td>\n",
       "      <td>1730.564697</td>\n",
       "      <td>1697.147217</td>\n",
       "      <td>1705.112183</td>\n",
       "      <td>1705.112183</td>\n",
       "      <td>5023904190</td>\n",
       "    </tr>\n",
       "    <tr>\n",
       "      <th>1459</th>\n",
       "      <td>2023-08-31</td>\n",
       "      <td>1705.364502</td>\n",
       "      <td>1720.011963</td>\n",
       "      <td>1634.850952</td>\n",
       "      <td>1645.639160</td>\n",
       "      <td>1645.639160</td>\n",
       "      <td>6593153505</td>\n",
       "    </tr>\n",
       "    <tr>\n",
       "      <th>1460</th>\n",
       "      <td>2023-09-01</td>\n",
       "      <td>1645.581299</td>\n",
       "      <td>1653.531738</td>\n",
       "      <td>1603.034180</td>\n",
       "      <td>1628.491211</td>\n",
       "      <td>1628.491211</td>\n",
       "      <td>6104510092</td>\n",
       "    </tr>\n",
       "    <tr>\n",
       "      <th>1461</th>\n",
       "      <td>2023-09-02</td>\n",
       "      <td>1628.559692</td>\n",
       "      <td>1644.030640</td>\n",
       "      <td>1627.976074</td>\n",
       "      <td>1637.025391</td>\n",
       "      <td>1637.025391</td>\n",
       "      <td>2943590996</td>\n",
       "    </tr>\n",
       "  </tbody>\n",
       "</table>\n",
       "<p>1462 rows × 7 columns</p>\n",
       "</div>"
      ],
      "text/plain": [
       "           Date         Open         High          Low        Close  \\\n",
       "0    2019-09-02   171.697601   180.145218   170.451691   178.347351   \n",
       "1    2019-09-03   178.357758   182.347992   175.970169   179.499329   \n",
       "2    2019-09-04   179.491989   180.136597   175.325363   175.992889   \n",
       "3    2019-09-05   175.966278   176.163910   171.746826   174.217133   \n",
       "4    2019-09-06   174.172226   177.718704   168.341339   169.956177   \n",
       "...         ...          ...          ...          ...          ...   \n",
       "1457 2023-08-29  1652.274170  1742.637329  1639.576172  1729.725708   \n",
       "1458 2023-08-30  1729.676636  1730.564697  1697.147217  1705.112183   \n",
       "1459 2023-08-31  1705.364502  1720.011963  1634.850952  1645.639160   \n",
       "1460 2023-09-01  1645.581299  1653.531738  1603.034180  1628.491211   \n",
       "1461 2023-09-02  1628.559692  1644.030640  1627.976074  1637.025391   \n",
       "\n",
       "        Adj Close       Volume  \n",
       "0      178.347351   6503447137  \n",
       "1      179.499329   6962728938  \n",
       "2      175.992889   5938120494  \n",
       "3      174.217133   5589476516  \n",
       "4      169.956177   6797611878  \n",
       "...           ...          ...  \n",
       "1457  1729.725708  11304916729  \n",
       "1458  1705.112183   5023904190  \n",
       "1459  1645.639160   6593153505  \n",
       "1460  1628.491211   6104510092  \n",
       "1461  1637.025391   2943590996  \n",
       "\n",
       "[1462 rows x 7 columns]"
      ]
     },
     "execution_count": 3,
     "metadata": {},
     "output_type": "execute_result"
    }
   ],
   "source": [
    "ethereum_data = yf.download('ETH-USD', \n",
    "                           start=start_date, \n",
    "                           end=end_date, \n",
    "                           progress=False)\n",
    "\n",
    "ethereum_data[\"Date\"] = ethereum_data.index\n",
    "ethereum_data = ethereum_data[[\"Date\", \"Open\", \"High\", \"Low\", \"Close\", \"Adj Close\", \"Volume\"]]\n",
    "ethereum_data.reset_index(drop=True, inplace=True)\n",
    "ethereum_data"
   ]
  },
  {
   "cell_type": "code",
   "execution_count": 5,
   "id": "1b5bffca",
   "metadata": {},
   "outputs": [],
   "source": [
    "ethereum_prices = ethereum_data"
   ]
  },
  {
   "cell_type": "code",
   "execution_count": 6,
   "id": "e20a1ab2",
   "metadata": {},
   "outputs": [],
   "source": [
    "# ARIMA :STATIONARITY\n",
    "import pandas as pd\n",
    "import numpy as np\n",
    "import matplotlib.pyplot as plt\n",
    "from statsmodels.tsa.stattools import adfuller"
   ]
  },
  {
   "cell_type": "code",
   "execution_count": 7,
   "id": "05c0710f",
   "metadata": {},
   "outputs": [],
   "source": [
    "ethereum_close_prices =ethereum_prices['Close']"
   ]
  },
  {
   "cell_type": "code",
   "execution_count": 8,
   "id": "04778f5f",
   "metadata": {},
   "outputs": [
    {
     "name": "stdout",
     "output_type": "stream",
     "text": [
      "p-value: 0.4910490960539548\n"
     ]
    }
   ],
   "source": [
    "result = adfuller(ethereum_close_prices)\n",
    "result\n",
    "p_value = result[1]\n",
    "print(f'p-value: {p_value}')"
   ]
  },
  {
   "cell_type": "code",
   "execution_count": 9,
   "id": "026ce168",
   "metadata": {},
   "outputs": [
    {
     "data": {
      "text/plain": [
       "(-1.5851492893661963,\n",
       " 0.4910490960539548,\n",
       " 17,\n",
       " 1444,\n",
       " {'1%': -3.434886677803751,\n",
       "  '5%': -2.8635436366589673,\n",
       "  '10%': -2.5678367211155533},\n",
       " 16986.78394625629)"
      ]
     },
     "execution_count": 9,
     "metadata": {},
     "output_type": "execute_result"
    }
   ],
   "source": [
    "result"
   ]
  },
  {
   "cell_type": "code",
   "execution_count": 10,
   "id": "4c9ab954",
   "metadata": {},
   "outputs": [
    {
     "name": "stderr",
     "output_type": "stream",
     "text": [
      "C:\\Users\\hp\\AppData\\Local\\Temp\\ipykernel_9796\\3209033006.py:3: SettingWithCopyWarning: \n",
      "A value is trying to be set on a copy of a slice from a DataFrame.\n",
      "Try using .loc[row_indexer,col_indexer] = value instead\n",
      "\n",
      "See the caveats in the documentation: https://pandas.pydata.org/pandas-docs/stable/user_guide/indexing.html#returning-a-view-versus-a-copy\n",
      "  ethereum_data['Stationary_Close_Price'] = ethereum_data[close_prices_column].diff(order_of_differencing)\n"
     ]
    }
   ],
   "source": [
    "close_prices_column = 'Close'\n",
    "order_of_differencing = 1\n",
    "ethereum_data['Stationary_Close_Price'] = ethereum_data[close_prices_column].diff(order_of_differencing)"
   ]
  },
  {
   "cell_type": "code",
   "execution_count": 11,
   "id": "ab0ef249",
   "metadata": {},
   "outputs": [
    {
     "data": {
      "text/plain": [
       "0             NaN\n",
       "1        1.151978\n",
       "2       -3.506439\n",
       "3       -1.775757\n",
       "4       -4.260956\n",
       "          ...    \n",
       "1457    77.268311\n",
       "1458   -24.613525\n",
       "1459   -59.473022\n",
       "1460   -17.147949\n",
       "1461     8.534180\n",
       "Name: Stationary_Close_Price, Length: 1462, dtype: float64"
      ]
     },
     "execution_count": 11,
     "metadata": {},
     "output_type": "execute_result"
    }
   ],
   "source": [
    "ethereum_data['Stationary_Close_Price']"
   ]
  },
  {
   "cell_type": "code",
   "execution_count": 12,
   "id": "3a5e133c",
   "metadata": {},
   "outputs": [
    {
     "name": "stderr",
     "output_type": "stream",
     "text": [
      "C:\\Users\\hp\\AppData\\Local\\Temp\\ipykernel_9796\\2422546696.py:1: SettingWithCopyWarning: \n",
      "A value is trying to be set on a copy of a slice from a DataFrame\n",
      "\n",
      "See the caveats in the documentation: https://pandas.pydata.org/pandas-docs/stable/user_guide/indexing.html#returning-a-view-versus-a-copy\n",
      "  ethereum_data.dropna(inplace=True)\n"
     ]
    }
   ],
   "source": [
    "ethereum_data.dropna(inplace=True)"
   ]
  },
  {
   "cell_type": "code",
   "execution_count": 13,
   "id": "ddaea49c",
   "metadata": {},
   "outputs": [
    {
     "data": {
      "text/plain": [
       "(-9.633876831631031,\n",
       " 1.5855284807698158e-16,\n",
       " 16,\n",
       " 1444,\n",
       " {'1%': -3.434886677803751,\n",
       "  '5%': -2.8635436366589673,\n",
       "  '10%': -2.5678367211155533},\n",
       " 16976.602778944063)"
      ]
     },
     "execution_count": 13,
     "metadata": {},
     "output_type": "execute_result"
    }
   ],
   "source": [
    "results = adfuller(ethereum_data['Stationary_Close_Price'])\n",
    "results"
   ]
  },
  {
   "cell_type": "code",
   "execution_count": 14,
   "id": "5676b72c",
   "metadata": {},
   "outputs": [
    {
     "name": "stdout",
     "output_type": "stream",
     "text": [
      "ADF Statistic: -9.633876831631031\n",
      "p-value: 1.5855284807698158e-16\n",
      "Critical Values:\n",
      "  1%: -3.434886677803751\n",
      "  5%: -2.8635436366589673\n",
      "  10%: -2.5678367211155533\n"
     ]
    }
   ],
   "source": [
    "adf_statistic, p_value, _, _, critical_values, _ = results\n",
    "print(f'ADF Statistic: {adf_statistic}')\n",
    "print(f'p-value: {p_value}')\n",
    "print('Critical Values:')\n",
    "\n",
    "\n",
    "for key, value in critical_values.items():\n",
    "    print(f'  {key}: {value}')"
   ]
  },
  {
   "cell_type": "code",
   "execution_count": 15,
   "id": "f7145415",
   "metadata": {},
   "outputs": [
    {
     "name": "stdout",
     "output_type": "stream",
     "text": [
      "Fail to reject the null hypothesis (H0); The differenced data is stationary.\n"
     ]
    }
   ],
   "source": [
    "if p_value >= 0.05:\n",
    "    print(\"Reject the null hypothesis (H0); The differenced data is non-stationary.\")\n",
    "else:\n",
    "    print(\"Fail to reject the null hypothesis (H0); The differenced data is stationary.\")"
   ]
  },
  {
   "cell_type": "code",
   "execution_count": 16,
   "id": "2fc96dd0",
   "metadata": {},
   "outputs": [],
   "source": [
    "import pmdarima as pm\n",
    "from pmdarima.model_selection import train_test_split"
   ]
  },
  {
   "cell_type": "code",
   "execution_count": 17,
   "id": "1c73e67f",
   "metadata": {},
   "outputs": [],
   "source": [
    "train_size = int(len(ethereum_data['Stationary_Close_Price']) * 0.8)  # 80% for training, 20% for testing\n",
    "train_data, test_data = train_test_split(ethereum_data['Stationary_Close_Price'], train_size=train_size)\n"
   ]
  },
  {
   "cell_type": "code",
   "execution_count": 20,
   "id": "64bc5dd0",
   "metadata": {},
   "outputs": [
    {
     "name": "stderr",
     "output_type": "stream",
     "text": [
      "C:\\Users\\hp\\anaconda3\\lib\\site-packages\\statsmodels\\tsa\\base\\tsa_model.py:473: ValueWarning: An unsupported index was provided and will be ignored when e.g. forecasting.\n",
      "  self._init_dates(dates, freq)\n",
      "C:\\Users\\hp\\anaconda3\\lib\\site-packages\\statsmodels\\tsa\\base\\tsa_model.py:473: ValueWarning: An unsupported index was provided and will be ignored when e.g. forecasting.\n",
      "  self._init_dates(dates, freq)\n",
      "C:\\Users\\hp\\anaconda3\\lib\\site-packages\\statsmodels\\tsa\\base\\tsa_model.py:473: ValueWarning: An unsupported index was provided and will be ignored when e.g. forecasting.\n",
      "  self._init_dates(dates, freq)\n",
      "C:\\Users\\hp\\anaconda3\\lib\\site-packages\\statsmodels\\tsa\\base\\tsa_model.py:473: ValueWarning: An unsupported index was provided and will be ignored when e.g. forecasting.\n",
      "  self._init_dates(dates, freq)\n",
      "C:\\Users\\hp\\anaconda3\\lib\\site-packages\\statsmodels\\tsa\\base\\tsa_model.py:473: ValueWarning: An unsupported index was provided and will be ignored when e.g. forecasting.\n",
      "  self._init_dates(dates, freq)\n",
      "C:\\Users\\hp\\anaconda3\\lib\\site-packages\\statsmodels\\tsa\\base\\tsa_model.py:473: ValueWarning: An unsupported index was provided and will be ignored when e.g. forecasting.\n",
      "  self._init_dates(dates, freq)\n",
      "C:\\Users\\hp\\anaconda3\\lib\\site-packages\\statsmodels\\tsa\\statespace\\sarimax.py:966: UserWarning: Non-stationary starting autoregressive parameters found. Using zeros as starting parameters.\n",
      "  warn('Non-stationary starting autoregressive parameters'\n",
      "C:\\Users\\hp\\anaconda3\\lib\\site-packages\\statsmodels\\tsa\\base\\tsa_model.py:473: ValueWarning: An unsupported index was provided and will be ignored when e.g. forecasting.\n",
      "  self._init_dates(dates, freq)\n",
      "C:\\Users\\hp\\anaconda3\\lib\\site-packages\\statsmodels\\tsa\\base\\tsa_model.py:473: ValueWarning: An unsupported index was provided and will be ignored when e.g. forecasting.\n",
      "  self._init_dates(dates, freq)\n",
      "C:\\Users\\hp\\anaconda3\\lib\\site-packages\\statsmodels\\tsa\\base\\tsa_model.py:473: ValueWarning: An unsupported index was provided and will be ignored when e.g. forecasting.\n",
      "  self._init_dates(dates, freq)\n",
      "C:\\Users\\hp\\anaconda3\\lib\\site-packages\\statsmodels\\tsa\\base\\tsa_model.py:473: ValueWarning: An unsupported index was provided and will be ignored when e.g. forecasting.\n",
      "  self._init_dates(dates, freq)\n",
      "C:\\Users\\hp\\anaconda3\\lib\\site-packages\\statsmodels\\tsa\\base\\tsa_model.py:473: ValueWarning: An unsupported index was provided and will be ignored when e.g. forecasting.\n",
      "  self._init_dates(dates, freq)\n",
      "C:\\Users\\hp\\anaconda3\\lib\\site-packages\\statsmodels\\tsa\\base\\tsa_model.py:473: ValueWarning: An unsupported index was provided and will be ignored when e.g. forecasting.\n",
      "  self._init_dates(dates, freq)\n",
      "C:\\Users\\hp\\anaconda3\\lib\\site-packages\\statsmodels\\tsa\\base\\tsa_model.py:473: ValueWarning: An unsupported index was provided and will be ignored when e.g. forecasting.\n",
      "  self._init_dates(dates, freq)\n",
      "C:\\Users\\hp\\anaconda3\\lib\\site-packages\\statsmodels\\tsa\\base\\tsa_model.py:473: ValueWarning: An unsupported index was provided and will be ignored when e.g. forecasting.\n",
      "  self._init_dates(dates, freq)\n",
      "C:\\Users\\hp\\anaconda3\\lib\\site-packages\\statsmodels\\tsa\\base\\tsa_model.py:473: ValueWarning: An unsupported index was provided and will be ignored when e.g. forecasting.\n",
      "  self._init_dates(dates, freq)\n",
      "C:\\Users\\hp\\anaconda3\\lib\\site-packages\\statsmodels\\tsa\\base\\tsa_model.py:473: ValueWarning: An unsupported index was provided and will be ignored when e.g. forecasting.\n",
      "  self._init_dates(dates, freq)\n",
      "C:\\Users\\hp\\anaconda3\\lib\\site-packages\\statsmodels\\tsa\\base\\tsa_model.py:473: ValueWarning: An unsupported index was provided and will be ignored when e.g. forecasting.\n",
      "  self._init_dates(dates, freq)\n",
      "C:\\Users\\hp\\anaconda3\\lib\\site-packages\\statsmodels\\tsa\\base\\tsa_model.py:473: ValueWarning: An unsupported index was provided and will be ignored when e.g. forecasting.\n",
      "  self._init_dates(dates, freq)\n",
      "C:\\Users\\hp\\anaconda3\\lib\\site-packages\\statsmodels\\tsa\\base\\tsa_model.py:473: ValueWarning: An unsupported index was provided and will be ignored when e.g. forecasting.\n",
      "  self._init_dates(dates, freq)\n",
      "C:\\Users\\hp\\anaconda3\\lib\\site-packages\\statsmodels\\tsa\\base\\tsa_model.py:473: ValueWarning: An unsupported index was provided and will be ignored when e.g. forecasting.\n",
      "  self._init_dates(dates, freq)\n",
      "C:\\Users\\hp\\anaconda3\\lib\\site-packages\\statsmodels\\tsa\\base\\tsa_model.py:473: ValueWarning: An unsupported index was provided and will be ignored when e.g. forecasting.\n",
      "  self._init_dates(dates, freq)\n",
      "C:\\Users\\hp\\anaconda3\\lib\\site-packages\\statsmodels\\tsa\\statespace\\sarimax.py:966: UserWarning: Non-stationary starting autoregressive parameters found. Using zeros as starting parameters.\n",
      "  warn('Non-stationary starting autoregressive parameters'\n",
      "C:\\Users\\hp\\anaconda3\\lib\\site-packages\\statsmodels\\tsa\\statespace\\sarimax.py:978: UserWarning: Non-invertible starting MA parameters found. Using zeros as starting parameters.\n",
      "  warn('Non-invertible starting MA parameters found.'\n",
      "C:\\Users\\hp\\anaconda3\\lib\\site-packages\\statsmodels\\tsa\\base\\tsa_model.py:473: ValueWarning: An unsupported index was provided and will be ignored when e.g. forecasting.\n",
      "  self._init_dates(dates, freq)\n",
      "C:\\Users\\hp\\anaconda3\\lib\\site-packages\\statsmodels\\tsa\\base\\tsa_model.py:473: ValueWarning: An unsupported index was provided and will be ignored when e.g. forecasting.\n",
      "  self._init_dates(dates, freq)\n",
      "C:\\Users\\hp\\anaconda3\\lib\\site-packages\\statsmodels\\tsa\\base\\tsa_model.py:473: ValueWarning: An unsupported index was provided and will be ignored when e.g. forecasting.\n",
      "  self._init_dates(dates, freq)\n",
      "C:\\Users\\hp\\anaconda3\\lib\\site-packages\\statsmodels\\base\\model.py:607: ConvergenceWarning: Maximum Likelihood optimization failed to converge. Check mle_retvals\n",
      "  warnings.warn(\"Maximum Likelihood optimization failed to \"\n",
      "C:\\Users\\hp\\anaconda3\\lib\\site-packages\\statsmodels\\tsa\\base\\tsa_model.py:473: ValueWarning: An unsupported index was provided and will be ignored when e.g. forecasting.\n",
      "  self._init_dates(dates, freq)\n",
      "C:\\Users\\hp\\anaconda3\\lib\\site-packages\\statsmodels\\tsa\\base\\tsa_model.py:473: ValueWarning: An unsupported index was provided and will be ignored when e.g. forecasting.\n",
      "  self._init_dates(dates, freq)\n",
      "C:\\Users\\hp\\anaconda3\\lib\\site-packages\\statsmodels\\tsa\\base\\tsa_model.py:473: ValueWarning: An unsupported index was provided and will be ignored when e.g. forecasting.\n",
      "  self._init_dates(dates, freq)\n",
      "C:\\Users\\hp\\anaconda3\\lib\\site-packages\\statsmodels\\tsa\\base\\tsa_model.py:473: ValueWarning: An unsupported index was provided and will be ignored when e.g. forecasting.\n",
      "  self._init_dates(dates, freq)\n",
      "C:\\Users\\hp\\anaconda3\\lib\\site-packages\\statsmodels\\tsa\\base\\tsa_model.py:473: ValueWarning: An unsupported index was provided and will be ignored when e.g. forecasting.\n",
      "  self._init_dates(dates, freq)\n",
      "C:\\Users\\hp\\anaconda3\\lib\\site-packages\\statsmodels\\tsa\\base\\tsa_model.py:473: ValueWarning: An unsupported index was provided and will be ignored when e.g. forecasting.\n",
      "  self._init_dates(dates, freq)\n",
      "C:\\Users\\hp\\anaconda3\\lib\\site-packages\\statsmodels\\tsa\\base\\tsa_model.py:473: ValueWarning: An unsupported index was provided and will be ignored when e.g. forecasting.\n",
      "  self._init_dates(dates, freq)\n",
      "C:\\Users\\hp\\anaconda3\\lib\\site-packages\\statsmodels\\tsa\\base\\tsa_model.py:473: ValueWarning: An unsupported index was provided and will be ignored when e.g. forecasting.\n",
      "  self._init_dates(dates, freq)\n",
      "C:\\Users\\hp\\anaconda3\\lib\\site-packages\\statsmodels\\tsa\\base\\tsa_model.py:473: ValueWarning: An unsupported index was provided and will be ignored when e.g. forecasting.\n",
      "  self._init_dates(dates, freq)\n",
      "C:\\Users\\hp\\anaconda3\\lib\\site-packages\\statsmodels\\tsa\\base\\tsa_model.py:473: ValueWarning: An unsupported index was provided and will be ignored when e.g. forecasting.\n",
      "  self._init_dates(dates, freq)\n",
      "C:\\Users\\hp\\anaconda3\\lib\\site-packages\\statsmodels\\tsa\\base\\tsa_model.py:473: ValueWarning: An unsupported index was provided and will be ignored when e.g. forecasting.\n",
      "  self._init_dates(dates, freq)\n",
      "C:\\Users\\hp\\anaconda3\\lib\\site-packages\\statsmodels\\tsa\\base\\tsa_model.py:473: ValueWarning: An unsupported index was provided and will be ignored when e.g. forecasting.\n",
      "  self._init_dates(dates, freq)\n",
      "C:\\Users\\hp\\anaconda3\\lib\\site-packages\\statsmodels\\tsa\\statespace\\sarimax.py:966: UserWarning: Non-stationary starting autoregressive parameters found. Using zeros as starting parameters.\n",
      "  warn('Non-stationary starting autoregressive parameters'\n",
      "C:\\Users\\hp\\anaconda3\\lib\\site-packages\\statsmodels\\tsa\\statespace\\sarimax.py:978: UserWarning: Non-invertible starting MA parameters found. Using zeros as starting parameters.\n",
      "  warn('Non-invertible starting MA parameters found.'\n"
     ]
    },
    {
     "name": "stderr",
     "output_type": "stream",
     "text": [
      "C:\\Users\\hp\\anaconda3\\lib\\site-packages\\statsmodels\\base\\model.py:607: ConvergenceWarning: Maximum Likelihood optimization failed to converge. Check mle_retvals\n",
      "  warnings.warn(\"Maximum Likelihood optimization failed to \"\n",
      "C:\\Users\\hp\\anaconda3\\lib\\site-packages\\statsmodels\\tsa\\base\\tsa_model.py:473: ValueWarning: An unsupported index was provided and will be ignored when e.g. forecasting.\n",
      "  self._init_dates(dates, freq)\n",
      "C:\\Users\\hp\\anaconda3\\lib\\site-packages\\statsmodels\\tsa\\base\\tsa_model.py:473: ValueWarning: An unsupported index was provided and will be ignored when e.g. forecasting.\n",
      "  self._init_dates(dates, freq)\n",
      "C:\\Users\\hp\\anaconda3\\lib\\site-packages\\statsmodels\\tsa\\base\\tsa_model.py:473: ValueWarning: An unsupported index was provided and will be ignored when e.g. forecasting.\n",
      "  self._init_dates(dates, freq)\n",
      "C:\\Users\\hp\\anaconda3\\lib\\site-packages\\statsmodels\\tsa\\base\\tsa_model.py:473: ValueWarning: An unsupported index was provided and will be ignored when e.g. forecasting.\n",
      "  self._init_dates(dates, freq)\n",
      "C:\\Users\\hp\\anaconda3\\lib\\site-packages\\statsmodels\\tsa\\base\\tsa_model.py:473: ValueWarning: An unsupported index was provided and will be ignored when e.g. forecasting.\n",
      "  self._init_dates(dates, freq)\n",
      "C:\\Users\\hp\\anaconda3\\lib\\site-packages\\statsmodels\\tsa\\base\\tsa_model.py:473: ValueWarning: An unsupported index was provided and will be ignored when e.g. forecasting.\n",
      "  self._init_dates(dates, freq)\n",
      "C:\\Users\\hp\\anaconda3\\lib\\site-packages\\statsmodels\\base\\model.py:607: ConvergenceWarning: Maximum Likelihood optimization failed to converge. Check mle_retvals\n",
      "  warnings.warn(\"Maximum Likelihood optimization failed to \"\n",
      "C:\\Users\\hp\\anaconda3\\lib\\site-packages\\statsmodels\\tsa\\base\\tsa_model.py:473: ValueWarning: An unsupported index was provided and will be ignored when e.g. forecasting.\n",
      "  self._init_dates(dates, freq)\n",
      "C:\\Users\\hp\\anaconda3\\lib\\site-packages\\statsmodels\\tsa\\base\\tsa_model.py:473: ValueWarning: An unsupported index was provided and will be ignored when e.g. forecasting.\n",
      "  self._init_dates(dates, freq)\n",
      "C:\\Users\\hp\\anaconda3\\lib\\site-packages\\statsmodels\\tsa\\base\\tsa_model.py:473: ValueWarning: An unsupported index was provided and will be ignored when e.g. forecasting.\n",
      "  self._init_dates(dates, freq)\n",
      "C:\\Users\\hp\\anaconda3\\lib\\site-packages\\statsmodels\\base\\model.py:607: ConvergenceWarning: Maximum Likelihood optimization failed to converge. Check mle_retvals\n",
      "  warnings.warn(\"Maximum Likelihood optimization failed to \"\n",
      "C:\\Users\\hp\\anaconda3\\lib\\site-packages\\statsmodels\\tsa\\base\\tsa_model.py:473: ValueWarning: An unsupported index was provided and will be ignored when e.g. forecasting.\n",
      "  self._init_dates(dates, freq)\n",
      "C:\\Users\\hp\\anaconda3\\lib\\site-packages\\statsmodels\\tsa\\base\\tsa_model.py:473: ValueWarning: An unsupported index was provided and will be ignored when e.g. forecasting.\n",
      "  self._init_dates(dates, freq)\n",
      "C:\\Users\\hp\\anaconda3\\lib\\site-packages\\statsmodels\\tsa\\base\\tsa_model.py:473: ValueWarning: An unsupported index was provided and will be ignored when e.g. forecasting.\n",
      "  self._init_dates(dates, freq)\n",
      "C:\\Users\\hp\\anaconda3\\lib\\site-packages\\statsmodels\\tsa\\base\\tsa_model.py:473: ValueWarning: An unsupported index was provided and will be ignored when e.g. forecasting.\n",
      "  self._init_dates(dates, freq)\n",
      "C:\\Users\\hp\\anaconda3\\lib\\site-packages\\statsmodels\\tsa\\base\\tsa_model.py:473: ValueWarning: An unsupported index was provided and will be ignored when e.g. forecasting.\n",
      "  self._init_dates(dates, freq)\n",
      "C:\\Users\\hp\\anaconda3\\lib\\site-packages\\statsmodels\\tsa\\base\\tsa_model.py:473: ValueWarning: An unsupported index was provided and will be ignored when e.g. forecasting.\n",
      "  self._init_dates(dates, freq)\n",
      "C:\\Users\\hp\\anaconda3\\lib\\site-packages\\statsmodels\\tsa\\statespace\\sarimax.py:966: UserWarning: Non-stationary starting autoregressive parameters found. Using zeros as starting parameters.\n",
      "  warn('Non-stationary starting autoregressive parameters'\n",
      "C:\\Users\\hp\\anaconda3\\lib\\site-packages\\statsmodels\\tsa\\statespace\\sarimax.py:978: UserWarning: Non-invertible starting MA parameters found. Using zeros as starting parameters.\n",
      "  warn('Non-invertible starting MA parameters found.'\n",
      "C:\\Users\\hp\\anaconda3\\lib\\site-packages\\statsmodels\\tsa\\base\\tsa_model.py:473: ValueWarning: An unsupported index was provided and will be ignored when e.g. forecasting.\n",
      "  self._init_dates(dates, freq)\n",
      "C:\\Users\\hp\\anaconda3\\lib\\site-packages\\statsmodels\\tsa\\base\\tsa_model.py:473: ValueWarning: An unsupported index was provided and will be ignored when e.g. forecasting.\n",
      "  self._init_dates(dates, freq)\n",
      "C:\\Users\\hp\\anaconda3\\lib\\site-packages\\statsmodels\\tsa\\base\\tsa_model.py:473: ValueWarning: An unsupported index was provided and will be ignored when e.g. forecasting.\n",
      "  self._init_dates(dates, freq)\n",
      "C:\\Users\\hp\\anaconda3\\lib\\site-packages\\statsmodels\\tsa\\base\\tsa_model.py:473: ValueWarning: An unsupported index was provided and will be ignored when e.g. forecasting.\n",
      "  self._init_dates(dates, freq)\n",
      "C:\\Users\\hp\\anaconda3\\lib\\site-packages\\statsmodels\\tsa\\base\\tsa_model.py:473: ValueWarning: An unsupported index was provided and will be ignored when e.g. forecasting.\n",
      "  self._init_dates(dates, freq)\n",
      "C:\\Users\\hp\\anaconda3\\lib\\site-packages\\statsmodels\\tsa\\base\\tsa_model.py:473: ValueWarning: An unsupported index was provided and will be ignored when e.g. forecasting.\n",
      "  self._init_dates(dates, freq)\n",
      "C:\\Users\\hp\\anaconda3\\lib\\site-packages\\statsmodels\\base\\model.py:607: ConvergenceWarning: Maximum Likelihood optimization failed to converge. Check mle_retvals\n",
      "  warnings.warn(\"Maximum Likelihood optimization failed to \"\n",
      "C:\\Users\\hp\\anaconda3\\lib\\site-packages\\statsmodels\\tsa\\base\\tsa_model.py:473: ValueWarning: An unsupported index was provided and will be ignored when e.g. forecasting.\n",
      "  self._init_dates(dates, freq)\n",
      "C:\\Users\\hp\\anaconda3\\lib\\site-packages\\statsmodels\\tsa\\base\\tsa_model.py:473: ValueWarning: An unsupported index was provided and will be ignored when e.g. forecasting.\n",
      "  self._init_dates(dates, freq)\n",
      "C:\\Users\\hp\\anaconda3\\lib\\site-packages\\statsmodels\\tsa\\base\\tsa_model.py:473: ValueWarning: An unsupported index was provided and will be ignored when e.g. forecasting.\n",
      "  self._init_dates(dates, freq)\n",
      "C:\\Users\\hp\\anaconda3\\lib\\site-packages\\statsmodels\\base\\model.py:607: ConvergenceWarning: Maximum Likelihood optimization failed to converge. Check mle_retvals\n",
      "  warnings.warn(\"Maximum Likelihood optimization failed to \"\n",
      "C:\\Users\\hp\\anaconda3\\lib\\site-packages\\statsmodels\\tsa\\base\\tsa_model.py:473: ValueWarning: An unsupported index was provided and will be ignored when e.g. forecasting.\n",
      "  self._init_dates(dates, freq)\n",
      "C:\\Users\\hp\\anaconda3\\lib\\site-packages\\statsmodels\\tsa\\base\\tsa_model.py:473: ValueWarning: An unsupported index was provided and will be ignored when e.g. forecasting.\n",
      "  self._init_dates(dates, freq)\n",
      "C:\\Users\\hp\\anaconda3\\lib\\site-packages\\statsmodels\\tsa\\base\\tsa_model.py:473: ValueWarning: An unsupported index was provided and will be ignored when e.g. forecasting.\n",
      "  self._init_dates(dates, freq)\n",
      "C:\\Users\\hp\\anaconda3\\lib\\site-packages\\statsmodels\\tsa\\base\\tsa_model.py:473: ValueWarning: An unsupported index was provided and will be ignored when e.g. forecasting.\n",
      "  self._init_dates(dates, freq)\n",
      "C:\\Users\\hp\\anaconda3\\lib\\site-packages\\statsmodels\\tsa\\base\\tsa_model.py:473: ValueWarning: An unsupported index was provided and will be ignored when e.g. forecasting.\n",
      "  self._init_dates(dates, freq)\n",
      "C:\\Users\\hp\\anaconda3\\lib\\site-packages\\statsmodels\\tsa\\base\\tsa_model.py:473: ValueWarning: An unsupported index was provided and will be ignored when e.g. forecasting.\n",
      "  self._init_dates(dates, freq)\n",
      "C:\\Users\\hp\\anaconda3\\lib\\site-packages\\statsmodels\\tsa\\statespace\\sarimax.py:966: UserWarning: Non-stationary starting autoregressive parameters found. Using zeros as starting parameters.\n",
      "  warn('Non-stationary starting autoregressive parameters'\n",
      "C:\\Users\\hp\\anaconda3\\lib\\site-packages\\statsmodels\\tsa\\statespace\\sarimax.py:978: UserWarning: Non-invertible starting MA parameters found. Using zeros as starting parameters.\n",
      "  warn('Non-invertible starting MA parameters found.'\n",
      "C:\\Users\\hp\\anaconda3\\lib\\site-packages\\statsmodels\\tsa\\base\\tsa_model.py:473: ValueWarning: An unsupported index was provided and will be ignored when e.g. forecasting.\n",
      "  self._init_dates(dates, freq)\n",
      "C:\\Users\\hp\\anaconda3\\lib\\site-packages\\statsmodels\\tsa\\base\\tsa_model.py:473: ValueWarning: An unsupported index was provided and will be ignored when e.g. forecasting.\n",
      "  self._init_dates(dates, freq)\n",
      "C:\\Users\\hp\\anaconda3\\lib\\site-packages\\statsmodels\\tsa\\base\\tsa_model.py:473: ValueWarning: An unsupported index was provided and will be ignored when e.g. forecasting.\n",
      "  self._init_dates(dates, freq)\n"
     ]
    },
    {
     "name": "stderr",
     "output_type": "stream",
     "text": [
      "C:\\Users\\hp\\anaconda3\\lib\\site-packages\\statsmodels\\base\\model.py:607: ConvergenceWarning: Maximum Likelihood optimization failed to converge. Check mle_retvals\n",
      "  warnings.warn(\"Maximum Likelihood optimization failed to \"\n",
      "C:\\Users\\hp\\anaconda3\\lib\\site-packages\\statsmodels\\tsa\\base\\tsa_model.py:473: ValueWarning: An unsupported index was provided and will be ignored when e.g. forecasting.\n",
      "  self._init_dates(dates, freq)\n",
      "C:\\Users\\hp\\anaconda3\\lib\\site-packages\\statsmodels\\tsa\\base\\tsa_model.py:473: ValueWarning: An unsupported index was provided and will be ignored when e.g. forecasting.\n",
      "  self._init_dates(dates, freq)\n",
      "C:\\Users\\hp\\anaconda3\\lib\\site-packages\\statsmodels\\tsa\\base\\tsa_model.py:473: ValueWarning: An unsupported index was provided and will be ignored when e.g. forecasting.\n",
      "  self._init_dates(dates, freq)\n",
      "C:\\Users\\hp\\anaconda3\\lib\\site-packages\\statsmodels\\base\\model.py:607: ConvergenceWarning: Maximum Likelihood optimization failed to converge. Check mle_retvals\n",
      "  warnings.warn(\"Maximum Likelihood optimization failed to \"\n",
      "C:\\Users\\hp\\anaconda3\\lib\\site-packages\\statsmodels\\tsa\\base\\tsa_model.py:473: ValueWarning: An unsupported index was provided and will be ignored when e.g. forecasting.\n",
      "  self._init_dates(dates, freq)\n",
      "C:\\Users\\hp\\anaconda3\\lib\\site-packages\\statsmodels\\tsa\\base\\tsa_model.py:473: ValueWarning: An unsupported index was provided and will be ignored when e.g. forecasting.\n",
      "  self._init_dates(dates, freq)\n",
      "C:\\Users\\hp\\anaconda3\\lib\\site-packages\\statsmodels\\tsa\\base\\tsa_model.py:473: ValueWarning: An unsupported index was provided and will be ignored when e.g. forecasting.\n",
      "  self._init_dates(dates, freq)\n"
     ]
    },
    {
     "name": "stdout",
     "output_type": "stream",
     "text": [
      "Best ARIMA Order: (4, 1, 5) with AIC=13991.8681367444\n"
     ]
    },
    {
     "name": "stderr",
     "output_type": "stream",
     "text": [
      "C:\\Users\\hp\\anaconda3\\lib\\site-packages\\statsmodels\\base\\model.py:607: ConvergenceWarning: Maximum Likelihood optimization failed to converge. Check mle_retvals\n",
      "  warnings.warn(\"Maximum Likelihood optimization failed to \"\n"
     ]
    }
   ],
   "source": [
    "from statsmodels.tsa.arima.model import ARIMA\n",
    "\n",
    "# Example parameter values, adjust as needed\n",
    "p_values = [ 1, 2,3,4,5]\n",
    "d_values = [1]\n",
    "q_values = [ 1, 2,3,4,5]\n",
    "\n",
    "best_aic = float(\"inf\")\n",
    "best_order = None\n",
    "\n",
    "for p in p_values:\n",
    "    for d in d_values:\n",
    "        for q in q_values:\n",
    "            try:\n",
    "                arima_model = ARIMA(train_data, order=(p, d, q))\n",
    "                arima_model_fit = arima_model.fit()\n",
    "                aic = arima_model_fit.aic\n",
    "\n",
    "                if aic < best_aic:\n",
    "                    best_aic = aic\n",
    "                    best_order = (p, d, q)\n",
    "            except:\n",
    "                continue\n",
    "\n",
    "print(f\"Best ARIMA Order: {best_order} with AIC={best_aic}\")\n"
   ]
  },
  {
   "cell_type": "code",
   "execution_count": 22,
   "id": "c6c89b56",
   "metadata": {},
   "outputs": [
    {
     "name": "stderr",
     "output_type": "stream",
     "text": [
      "C:\\Users\\hp\\anaconda3\\lib\\site-packages\\statsmodels\\tsa\\base\\tsa_model.py:473: ValueWarning: An unsupported index was provided and will be ignored when e.g. forecasting.\n",
      "  self._init_dates(dates, freq)\n",
      "C:\\Users\\hp\\anaconda3\\lib\\site-packages\\statsmodels\\tsa\\base\\tsa_model.py:473: ValueWarning: An unsupported index was provided and will be ignored when e.g. forecasting.\n",
      "  self._init_dates(dates, freq)\n",
      "C:\\Users\\hp\\anaconda3\\lib\\site-packages\\statsmodels\\tsa\\base\\tsa_model.py:473: ValueWarning: An unsupported index was provided and will be ignored when e.g. forecasting.\n",
      "  self._init_dates(dates, freq)\n",
      "C:\\Users\\hp\\anaconda3\\lib\\site-packages\\statsmodels\\base\\model.py:607: ConvergenceWarning: Maximum Likelihood optimization failed to converge. Check mle_retvals\n",
      "  warnings.warn(\"Maximum Likelihood optimization failed to \"\n"
     ]
    }
   ],
   "source": [
    "arima_model = ARIMA(ethereum_data['Stationary_Close_Price'], order=(4, 1, 5))\n",
    "arima_model_fit = arima_model.fit()"
   ]
  },
  {
   "cell_type": "code",
   "execution_count": 23,
   "id": "e88d84ea",
   "metadata": {},
   "outputs": [],
   "source": [
    "ar_params = arima_model_fit.arparams\n",
    "ma_params = arima_model_fit.maparams"
   ]
  },
  {
   "cell_type": "code",
   "execution_count": 24,
   "id": "9ddc8234",
   "metadata": {},
   "outputs": [
    {
     "data": {
      "text/plain": [
       "array([-2.28479959, -2.7194915 , -2.18650824, -0.89059341])"
      ]
     },
     "execution_count": 24,
     "metadata": {},
     "output_type": "execute_result"
    }
   ],
   "source": [
    "ar_params"
   ]
  },
  {
   "cell_type": "code",
   "execution_count": 25,
   "id": "8127ec03",
   "metadata": {},
   "outputs": [
    {
     "data": {
      "text/plain": [
       "array([ 1.25359396,  0.41243134, -0.51822599, -1.24916408, -0.89809348])"
      ]
     },
     "execution_count": 25,
     "metadata": {},
     "output_type": "execute_result"
    }
   ],
   "source": [
    "ma_params"
   ]
  },
  {
   "cell_type": "code",
   "execution_count": 26,
   "id": "5d85ac6e",
   "metadata": {},
   "outputs": [],
   "source": [
    "se_params = arima_model_fit.bse"
   ]
  },
  {
   "cell_type": "code",
   "execution_count": 27,
   "id": "56aa904a",
   "metadata": {},
   "outputs": [
    {
     "data": {
      "text/plain": [
       "ar.L1       0.031700\n",
       "ar.L2       0.052915\n",
       "ar.L3       0.053883\n",
       "ar.L4       0.029444\n",
       "ma.L1       0.067053\n",
       "ma.L2       0.135193\n",
       "ma.L3       0.157032\n",
       "ma.L4       0.128543\n",
       "ma.L5       0.056212\n",
       "sigma2    511.992738\n",
       "dtype: float64"
      ]
     },
     "execution_count": 27,
     "metadata": {},
     "output_type": "execute_result"
    }
   ],
   "source": [
    "se_params"
   ]
  },
  {
   "cell_type": "code",
   "execution_count": 28,
   "id": "80e35e57",
   "metadata": {},
   "outputs": [],
   "source": [
    "bic = arima_model_fit.bic"
   ]
  },
  {
   "cell_type": "code",
   "execution_count": 29,
   "id": "54d166fb",
   "metadata": {},
   "outputs": [
    {
     "data": {
      "text/plain": [
       "17292.482051697614"
      ]
     },
     "execution_count": 29,
     "metadata": {},
     "output_type": "execute_result"
    }
   ],
   "source": [
    "bic"
   ]
  },
  {
   "cell_type": "code",
   "execution_count": 30,
   "id": "f6d5e391",
   "metadata": {},
   "outputs": [
    {
     "name": "stdout",
     "output_type": "stream",
     "text": [
      "Log Likelihood: -8609.810067275295\n"
     ]
    }
   ],
   "source": [
    "# Assuming you have already fitted an ARIMA model and stored it in arima_model_fit\n",
    "log_likelihood = arima_model_fit.llf\n",
    "\n",
    "# Display the log-likelihood\n",
    "print(\"Log Likelihood:\", log_likelihood)\n"
   ]
  },
  {
   "cell_type": "code",
   "execution_count": 31,
   "id": "5e3f1610",
   "metadata": {},
   "outputs": [
    {
     "name": "stderr",
     "output_type": "stream",
     "text": [
      "C:\\Users\\hp\\anaconda3\\lib\\site-packages\\statsmodels\\tsa\\base\\tsa_model.py:836: ValueWarning: No supported index is available. Prediction results will be given with an integer index beginning at `start`.\n",
      "  return get_prediction_index(\n",
      "C:\\Users\\hp\\anaconda3\\lib\\site-packages\\statsmodels\\tsa\\base\\tsa_model.py:836: FutureWarning: No supported index is available. In the next version, calling this method in a model without a supported index will result in an exception.\n",
      "  return get_prediction_index(\n"
     ]
    }
   ],
   "source": [
    "forecast_steps = 365\n",
    "forecast_values = arima_model_fit.forecast(steps=forecast_steps)"
   ]
  },
  {
   "cell_type": "code",
   "execution_count": 34,
   "id": "1c6fc4d8",
   "metadata": {},
   "outputs": [],
   "source": [
    "train_data = ethereum_data.iloc[:-365]\n",
    "test_data = ethereum_data.iloc[-365:]"
   ]
  },
  {
   "cell_type": "code",
   "execution_count": 36,
   "id": "ae1b7c9f",
   "metadata": {},
   "outputs": [],
   "source": [
    "import pandas as pd\n",
    "import numpy as np\n",
    "import matplotlib.pyplot as plt\n",
    "from statsmodels.tsa.arima.model import ARIMA\n"
   ]
  },
  {
   "cell_type": "code",
   "execution_count": 38,
   "id": "2fcc453a",
   "metadata": {},
   "outputs": [
    {
     "name": "stdout",
     "output_type": "stream",
     "text": [
      "Date                      datetime64[ns]\n",
      "Open                             float64\n",
      "High                             float64\n",
      "Low                              float64\n",
      "Close                            float64\n",
      "Adj Close                        float64\n",
      "Volume                             int64\n",
      "Stationary_Close_Price           float64\n",
      "dtype: object\n"
     ]
    }
   ],
   "source": [
    "print(train_data.dtypes)\n"
   ]
  },
  {
   "cell_type": "code",
   "execution_count": 39,
   "id": "ff6d4801",
   "metadata": {},
   "outputs": [
    {
     "name": "stderr",
     "output_type": "stream",
     "text": [
      "C:\\Users\\hp\\AppData\\Local\\Temp\\ipykernel_9796\\1080797965.py:1: SettingWithCopyWarning: \n",
      "A value is trying to be set on a copy of a slice from a DataFrame.\n",
      "Try using .loc[row_indexer,col_indexer] = value instead\n",
      "\n",
      "See the caveats in the documentation: https://pandas.pydata.org/pandas-docs/stable/user_guide/indexing.html#returning-a-view-versus-a-copy\n",
      "  train_data['Close'] = pd.to_numeric(train_data['Close'], errors='coerce')\n"
     ]
    }
   ],
   "source": [
    "train_data['Close'] = pd.to_numeric(train_data['Close'], errors='coerce')\n"
   ]
  },
  {
   "cell_type": "code",
   "execution_count": 40,
   "id": "c0ffb265",
   "metadata": {},
   "outputs": [
    {
     "name": "stderr",
     "output_type": "stream",
     "text": [
      "C:\\Users\\hp\\anaconda3\\lib\\site-packages\\statsmodels\\tsa\\base\\tsa_model.py:473: ValueWarning: An unsupported index was provided and will be ignored when e.g. forecasting.\n",
      "  self._init_dates(dates, freq)\n",
      "C:\\Users\\hp\\anaconda3\\lib\\site-packages\\statsmodels\\tsa\\base\\tsa_model.py:473: ValueWarning: An unsupported index was provided and will be ignored when e.g. forecasting.\n",
      "  self._init_dates(dates, freq)\n",
      "C:\\Users\\hp\\anaconda3\\lib\\site-packages\\statsmodels\\tsa\\base\\tsa_model.py:473: ValueWarning: An unsupported index was provided and will be ignored when e.g. forecasting.\n",
      "  self._init_dates(dates, freq)\n",
      "C:\\Users\\hp\\anaconda3\\lib\\site-packages\\statsmodels\\base\\model.py:607: ConvergenceWarning: Maximum Likelihood optimization failed to converge. Check mle_retvals\n",
      "  warnings.warn(\"Maximum Likelihood optimization failed to \"\n"
     ]
    }
   ],
   "source": [
    "arima_model = ARIMA(train_data['Close'], order=(4, 1, 5))\n",
    "arima_model_fit = arima_model.fit()\n"
   ]
  },
  {
   "cell_type": "code",
   "execution_count": 41,
   "id": "ffb8a75f",
   "metadata": {},
   "outputs": [
    {
     "name": "stderr",
     "output_type": "stream",
     "text": [
      "C:\\Users\\hp\\anaconda3\\lib\\site-packages\\statsmodels\\tsa\\base\\tsa_model.py:836: ValueWarning: No supported index is available. Prediction results will be given with an integer index beginning at `start`.\n",
      "  return get_prediction_index(\n",
      "C:\\Users\\hp\\anaconda3\\lib\\site-packages\\statsmodels\\tsa\\base\\tsa_model.py:836: FutureWarning: No supported index is available. In the next version, calling this method in a model without a supported index will result in an exception.\n",
      "  return get_prediction_index(\n"
     ]
    }
   ],
   "source": [
    "forecast_steps = 365\n",
    "forecast_values = arima_model_fit.forecast(steps=forecast_steps)"
   ]
  },
  {
   "cell_type": "code",
   "execution_count": 51,
   "id": "72a58b4c",
   "metadata": {},
   "outputs": [
    {
     "name": "stderr",
     "output_type": "stream",
     "text": [
      "C:\\Users\\hp\\AppData\\Local\\Temp\\ipykernel_9796\\1064612249.py:4: UserWarning: Discarding nonzero nanoseconds in conversion.\n",
      "  forecast_end_date = forecast_start_date + pd.DateOffset(days=forecast_days)\n"
     ]
    }
   ],
   "source": [
    "last_date = pd.Timestamp(test_data.index[-1])\n",
    "forecast_start_date = last_date + pd.Timedelta(days=1)\n",
    "forecast_days=365\n",
    "forecast_end_date = forecast_start_date + pd.DateOffset(days=forecast_days)"
   ]
  },
  {
   "cell_type": "code",
   "execution_count": 64,
   "id": "70484f0f",
   "metadata": {},
   "outputs": [
    {
     "data": {
      "text/plain": [
       "Timestamp('2023-09-02 00:00:00')"
      ]
     },
     "execution_count": 64,
     "metadata": {},
     "output_type": "execute_result"
    }
   ],
   "source": [
    "import pandas as pd\n",
    "\n",
    "# Assuming you have a date representing the start_date\n",
    "start_date = pd.to_datetime('2023-09-02')\n",
    "\n",
    "# Add 365 days to the start_date to get the end_date\n",
    "end_date = start_date + pd.DateOffset(days=365)\n",
    "start_date\n"
   ]
  },
  {
   "cell_type": "code",
   "execution_count": 52,
   "id": "1d68b423",
   "metadata": {},
   "outputs": [],
   "source": [
    "import pandas as pd\n",
    "import numpy as np\n",
    "import matplotlib.pyplot as plt\n",
    "from statsmodels.tsa.arima.model import ARIMA\n"
   ]
  },
  {
   "cell_type": "code",
   "execution_count": 54,
   "id": "43609e74",
   "metadata": {},
   "outputs": [
    {
     "name": "stdout",
     "output_type": "stream",
     "text": [
      "Date                      datetime64[ns]\n",
      "Open                             float64\n",
      "High                             float64\n",
      "Low                              float64\n",
      "Close                            float64\n",
      "Adj Close                        float64\n",
      "Volume                             int64\n",
      "Stationary_Close_Price           float64\n",
      "dtype: object\n"
     ]
    }
   ],
   "source": [
    "print(train_data.dtypes)"
   ]
  },
  {
   "cell_type": "code",
   "execution_count": 55,
   "id": "5fc6fb0e",
   "metadata": {},
   "outputs": [
    {
     "name": "stderr",
     "output_type": "stream",
     "text": [
      "C:\\Users\\hp\\AppData\\Local\\Temp\\ipykernel_9796\\2455489816.py:1: SettingWithCopyWarning: \n",
      "A value is trying to be set on a copy of a slice from a DataFrame.\n",
      "Try using .loc[row_indexer,col_indexer] = value instead\n",
      "\n",
      "See the caveats in the documentation: https://pandas.pydata.org/pandas-docs/stable/user_guide/indexing.html#returning-a-view-versus-a-copy\n",
      "  train_data['Close'] = pd.to_numeric(train_data['Close'], errors='coerce')\n"
     ]
    }
   ],
   "source": [
    "train_data['Close'] = pd.to_numeric(train_data['Close'], errors='coerce')"
   ]
  },
  {
   "cell_type": "code",
   "execution_count": 56,
   "id": "c6cbbf38",
   "metadata": {},
   "outputs": [
    {
     "name": "stderr",
     "output_type": "stream",
     "text": [
      "C:\\Users\\hp\\AppData\\Local\\Temp\\ipykernel_9796\\3148270812.py:1: SettingWithCopyWarning: \n",
      "A value is trying to be set on a copy of a slice from a DataFrame\n",
      "\n",
      "See the caveats in the documentation: https://pandas.pydata.org/pandas-docs/stable/user_guide/indexing.html#returning-a-view-versus-a-copy\n",
      "  train_data['Close'].fillna(train_data['Close'].mean(), inplace=True)  # Replace NaNs with mean\n"
     ]
    }
   ],
   "source": [
    "train_data['Close'].fillna(train_data['Close'].mean(), inplace=True)  # Replace NaNs with mean"
   ]
  },
  {
   "cell_type": "code",
   "execution_count": 58,
   "id": "c1ff8e13",
   "metadata": {},
   "outputs": [
    {
     "name": "stderr",
     "output_type": "stream",
     "text": [
      "C:\\Users\\hp\\anaconda3\\lib\\site-packages\\statsmodels\\tsa\\base\\tsa_model.py:473: ValueWarning: An unsupported index was provided and will be ignored when e.g. forecasting.\n",
      "  self._init_dates(dates, freq)\n",
      "C:\\Users\\hp\\anaconda3\\lib\\site-packages\\statsmodels\\tsa\\base\\tsa_model.py:473: ValueWarning: An unsupported index was provided and will be ignored when e.g. forecasting.\n",
      "  self._init_dates(dates, freq)\n",
      "C:\\Users\\hp\\anaconda3\\lib\\site-packages\\statsmodels\\tsa\\base\\tsa_model.py:473: ValueWarning: An unsupported index was provided and will be ignored when e.g. forecasting.\n",
      "  self._init_dates(dates, freq)\n",
      "C:\\Users\\hp\\anaconda3\\lib\\site-packages\\statsmodels\\base\\model.py:607: ConvergenceWarning: Maximum Likelihood optimization failed to converge. Check mle_retvals\n",
      "  warnings.warn(\"Maximum Likelihood optimization failed to \"\n"
     ]
    }
   ],
   "source": [
    "arima_model = ARIMA(train_data['Close'], order=(4, 1, 5))\n",
    "arima_model_fit = arima_model.fit()"
   ]
  },
  {
   "cell_type": "code",
   "execution_count": 69,
   "id": "5c29071f",
   "metadata": {},
   "outputs": [
    {
     "name": "stderr",
     "output_type": "stream",
     "text": [
      "C:\\Users\\hp\\AppData\\Local\\Temp\\ipykernel_9796\\3186303811.py:8: UserWarning: Discarding nonzero nanoseconds in conversion.\n",
      "  forecast_end_date = last_date + pd.DateOffset(days=forecast_days)\n"
     ]
    }
   ],
   "source": [
    "import pandas as pd\n",
    "\n",
    "\n",
    "# Specify the number of days to forecast\n",
    "forecast_days = 365\n",
    "\n",
    "# Calculate the end date for forecasting\n",
    "forecast_end_date = last_date + pd.DateOffset(days=forecast_days)\n",
    "\n",
    "# Create a date range for the forecast\n",
    "forecast_dates = pd.date_range(start=last_date + pd.Timedelta(days=1), end=forecast_end_date, freq='D')\n"
   ]
  },
  {
   "cell_type": "code",
   "execution_count": 70,
   "id": "c3436900",
   "metadata": {},
   "outputs": [
    {
     "data": {
      "image/png": "[encoded data removed]",
      "text/plain": [
       "<Figure size 1200x600 with 1 Axes>"
      ]
     },
     "metadata": {},
     "output_type": "display_data"
    }
   ],
   "source": [
    "# Create a DataFrame for the forecasted values\n",
    "forecast_df = pd.DataFrame({'Date': forecast_dates, 'Forecasted_Close': forecast_values})\n",
    "forecast_df.set_index('Date', inplace=True)\n",
    "\n",
    "# Plot the historical and forecasted closing prices\n",
    "plt.figure(figsize=(12, 6))\n",
    "plt.plot(ethereum_data.index, ethereum_data['Close'], label='Historical Close Prices', color='blue')\n",
    "plt.plot(forecast_df.index, forecast_df['Forecasted_Close'], label='Forecasted Close Prices', color='red')\n",
    "plt.xlabel('Date')\n",
    "plt.ylabel('Close Price (USD)')\n",
    "plt.title('Ethereum Close Price Forecast for One Year')\n",
    "plt.legend()\n",
    "plt.grid(True)\n",
    "plt.show()\n"
   ]
  },
  {
   "cell_type": "code",
   "execution_count": 68,
   "id": "727d19d2",
   "metadata": {},
   "outputs": [
    {
     "data": {
      "text/plain": [
       "Timestamp('1970-01-01 00:00:00.000001461')"
      ]
     },
     "execution_count": 68,
     "metadata": {},
     "output_type": "execute_result"
    }
   ],
   "source": [
    "last_date"
   ]
  },
  {
   "cell_type": "code",
   "execution_count": null,
   "id": "1289b034",
   "metadata": {},
   "outputs": [],
   "source": []
  },
  {
   "cell_type": "code",
   "execution_count": 72,
   "id": "bec676a2",
   "metadata": {},
   "outputs": [
    {
     "name": "stderr",
     "output_type": "stream",
     "text": [
      "C:\\Users\\hp\\AppData\\Local\\Temp\\ipykernel_9796\\1528638958.py:1: SettingWithCopyWarning: \n",
      "A value is trying to be set on a copy of a slice from a DataFrame.\n",
      "Try using .loc[row_indexer,col_indexer] = value instead\n",
      "\n",
      "See the caveats in the documentation: https://pandas.pydata.org/pandas-docs/stable/user_guide/indexing.html#returning-a-view-versus-a-copy\n",
      "  ethereum_data['Date'] = pd.to_datetime(ethereum_data['Date'])\n"
     ]
    }
   ],
   "source": [
    "ethereum_data['Date'] = pd.to_datetime(ethereum_data['Date'])\n",
    "ethereum_data.set_index('Date', inplace=True)\n"
   ]
  },
  {
   "cell_type": "code",
   "execution_count": 73,
   "id": "376a54ac",
   "metadata": {},
   "outputs": [],
   "source": [
    "train_data = ethereum_data.iloc[:-365]\n",
    "test_data = ethereum_data.iloc[-365:]"
   ]
  },
  {
   "cell_type": "code",
   "execution_count": 74,
   "id": "ba6978e8",
   "metadata": {},
   "outputs": [
    {
     "name": "stderr",
     "output_type": "stream",
     "text": [
      "C:\\Users\\hp\\anaconda3\\lib\\site-packages\\statsmodels\\tsa\\base\\tsa_model.py:473: ValueWarning: No frequency information was provided, so inferred frequency D will be used.\n",
      "  self._init_dates(dates, freq)\n",
      "C:\\Users\\hp\\anaconda3\\lib\\site-packages\\statsmodels\\tsa\\base\\tsa_model.py:473: ValueWarning: No frequency information was provided, so inferred frequency D will be used.\n",
      "  self._init_dates(dates, freq)\n",
      "C:\\Users\\hp\\anaconda3\\lib\\site-packages\\statsmodels\\tsa\\base\\tsa_model.py:473: ValueWarning: No frequency information was provided, so inferred frequency D will be used.\n",
      "  self._init_dates(dates, freq)\n",
      "C:\\Users\\hp\\anaconda3\\lib\\site-packages\\statsmodels\\base\\model.py:607: ConvergenceWarning: Maximum Likelihood optimization failed to converge. Check mle_retvals\n",
      "  warnings.warn(\"Maximum Likelihood optimization failed to \"\n"
     ]
    }
   ],
   "source": [
    "p, d, q = 4, 1, 5\n",
    "arima_model = ARIMA(train_data['Close'], order=(p, d, q))\n",
    "arima_model_fit = arima_model.fit()"
   ]
  },
  {
   "cell_type": "code",
   "execution_count": 75,
   "id": "3742024b",
   "metadata": {},
   "outputs": [],
   "source": [
    "forecast_steps = 365"
   ]
  },
  {
   "cell_type": "code",
   "execution_count": 89,
   "id": "cf9d5bea",
   "metadata": {},
   "outputs": [
    {
     "data": {
      "text/plain": [
       "2022-09-03    1566.869217\n",
       "2022-09-04    1590.788325\n",
       "2022-09-05    1564.880085\n",
       "2022-09-06    1570.011423\n",
       "2022-09-07    1586.083200\n",
       "                 ...     \n",
       "2023-08-29    1575.000246\n",
       "2023-08-30    1574.965629\n",
       "2023-08-31    1574.980709\n",
       "2023-09-01    1575.007331\n",
       "2023-09-02    1574.980666\n",
       "Freq: D, Name: predicted_mean, Length: 365, dtype: float64"
      ]
     },
     "execution_count": 89,
     "metadata": {},
     "output_type": "execute_result"
    }
   ],
   "source": [
    "forecast_values = arima_model_fit.forecast(steps=forecast_steps)\n",
    "forecast_values"
   ]
  },
  {
   "cell_type": "code",
   "execution_count": 90,
   "id": "7e5eec64",
   "metadata": {},
   "outputs": [
    {
     "data": {
      "text/plain": [
       "DatetimeIndex(['2023-09-03', '2023-09-04', '2023-09-05', '2023-09-06',\n",
       "               '2023-09-07', '2023-09-08', '2023-09-09', '2023-09-10',\n",
       "               '2023-09-11', '2023-09-12',\n",
       "               ...\n",
       "               '2024-08-23', '2024-08-24', '2024-08-25', '2024-08-26',\n",
       "               '2024-08-27', '2024-08-28', '2024-08-29', '2024-08-30',\n",
       "               '2024-08-31', '2024-09-01'],\n",
       "              dtype='datetime64[ns]', length=365, freq='D')"
      ]
     },
     "execution_count": 90,
     "metadata": {},
     "output_type": "execute_result"
    }
   ],
   "source": [
    "forecast_dates = pd.date_range(start=test_data.index[-1] + pd.Timedelta(days=1), periods=forecast_steps, freq='D')\n",
    "forecast_dates"
   ]
  },
  {
   "cell_type": "code",
   "execution_count": 78,
   "id": "e20f5bcb",
   "metadata": {},
   "outputs": [],
   "source": [
    "forecast_df = pd.DataFrame({'Date': forecast_dates, 'Forecasted_Close': forecast_values})\n",
    "forecast_df.set_index('Date', inplace=True)"
   ]
  },
  {
   "cell_type": "code",
   "execution_count": 88,
   "id": "fc8e656b",
   "metadata": {},
   "outputs": [
    {
     "data": {
      "image/png": "[encoded data removed]",
      "text/plain": [
       "<Figure size 1200x600 with 1 Axes>"
      ]
     },
     "metadata": {},
     "output_type": "display_data"
    }
   ],
   "source": [
    "plt.figure(figsize=(12, 6))\n",
    "plt.plot(ethereum_data.index, ethereum_data['Close'], label='Historical Close Prices', color='blue')\n",
    "plt.plot(forecast_df.index, forecast_df['Forecasted_Close'], label='Forecasted Close Prices', color='black')\n",
    "plt.xlabel('Year')\n",
    "plt.ylabel('Close Price (USD)')\n",
    "plt.title('Ethereum Close Price Forecast for One Year')\n",
    "plt.legend()\n",
    "plt.grid(True)\n",
    "plt.show()"
   ]
  },
  {
   "cell_type": "code",
   "execution_count": 87,
   "id": "08846e75",
   "metadata": {},
   "outputs": [
    {
     "data": {
      "image/png": "[encoded data removed]",
      "text/plain": [
       "<Figure size 1200x600 with 1 Axes>"
      ]
     },
     "metadata": {},
     "output_type": "display_data"
    }
   ],
   "source": [
    "import pandas as pd\n",
    "import matplotlib.pyplot as plt\n",
    "\n",
    "# Assuming you have a DataFrame named 'eth_data' with a DateTime index\n",
    "# Replace 'eth_data' with the actual DataFrame containing your data\n",
    "\n",
    "plt.figure(figsize=(12, 6))\n",
    "plt.plot(ethereum_data.index, ethereum_data['Close'], label='Historical Close Prices', color='blue')\n",
    "plt.xlabel('Date')\n",
    "plt.ylabel('Close Price (USD)')\n",
    "plt.title('Historical Ethereum Close Prices')\n",
    "plt.legend()\n",
    "plt.grid(True)\n",
    "plt.show()\n"
   ]
  },
  {
   "cell_type": "code",
   "execution_count": 91,
   "id": "57f48fa9",
   "metadata": {},
   "outputs": [
    {
     "ename": "ValueError",
     "evalue": "too many values to unpack (expected 3)",
     "output_type": "error",
     "traceback": [
      "\u001b[1;31m---------------------------------------------------------------------------\u001b[0m",
      "\u001b[1;31mValueError\u001b[0m                                Traceback (most recent call last)",
      "Cell \u001b[1;32mIn[91], line 1\u001b[0m\n\u001b[1;32m----> 1\u001b[0m forecast_values, stderr, conf_int \u001b[38;5;241m=\u001b[39m arima_model_fit\u001b[38;5;241m.\u001b[39mforecast(steps\u001b[38;5;241m=\u001b[39m\u001b[38;5;28mlen\u001b[39m(forecast_dates))\n\u001b[0;32m      2\u001b[0m forecast_df[\u001b[38;5;124m'\u001b[39m\u001b[38;5;124mForecasted_Close\u001b[39m\u001b[38;5;124m'\u001b[39m] \u001b[38;5;241m=\u001b[39m forecast_values\n\u001b[0;32m      3\u001b[0m \u001b[38;5;28mprint\u001b[39m(\u001b[38;5;124m\"\u001b[39m\u001b[38;5;124mForecasted Ethereum Closing Prices:\u001b[39m\u001b[38;5;124m\"\u001b[39m)\n",
      "\u001b[1;31mValueError\u001b[0m: too many values to unpack (expected 3)"
     ]
    }
   ],
   "source": [
    "forecast_values, stderr, conf_int = arima_model_fit.forecast(steps=len(forecast_dates))\n",
    "forecast_df['Forecasted_Close'] = forecast_values\n",
    "print(\"Forecasted Ethereum Closing Prices:\")\n",
    "print(forecast_df)"
   ]
  },
  {
   "cell_type": "code",
   "execution_count": 133,
   "id": "2cf2eadc",
   "metadata": {},
   "outputs": [
    {
     "ename": "NameError",
     "evalue": "name 'bitcoin_data' is not defined",
     "output_type": "error",
     "traceback": [
      "\u001b[1;31m---------------------------------------------------------------------------\u001b[0m",
      "\u001b[1;31mNameError\u001b[0m                                 Traceback (most recent call last)",
      "Cell \u001b[1;32mIn[133], line 20\u001b[0m\n\u001b[0;32m     17\u001b[0m forecast_df \u001b[38;5;241m=\u001b[39m pd\u001b[38;5;241m.\u001b[39mDataFrame(index\u001b[38;5;241m=\u001b[39mforecast_dates)\n\u001b[0;32m     19\u001b[0m \u001b[38;5;66;03m# Fit the ARIMA model on historical data\u001b[39;00m\n\u001b[1;32m---> 20\u001b[0m arima_model \u001b[38;5;241m=\u001b[39m ARIMA(\u001b[43mbitcoin_data\u001b[49m[\u001b[38;5;124m'\u001b[39m\u001b[38;5;124mClose\u001b[39m\u001b[38;5;124m'\u001b[39m], order\u001b[38;5;241m=\u001b[39m(p, d, q))\n\u001b[0;32m     21\u001b[0m arima_model_fit \u001b[38;5;241m=\u001b[39m arima_model\u001b[38;5;241m.\u001b[39mfit()\n\u001b[0;32m     23\u001b[0m \u001b[38;5;66;03m# Forecast Ethereum closing prices for the specified date range\u001b[39;00m\n",
      "\u001b[1;31mNameError\u001b[0m: name 'bitcoin_data' is not defined"
     ]
    }
   ],
   "source": [
    "import pandas as pd\n",
    "import numpy as np\n",
    "from statsmodels.tsa.arima.model import ARIMA\n",
    "\n",
    "# Load your Ethereum historical closing price data into a pandas DataFrame\n",
    "# Assuming you have a DataFrame named 'eth_data' with a DateTime index\n",
    "\n",
    "# Define the ARIMA model order (adjust as needed)\n",
    "p, d, q = 3, 1, 3\n",
    "\n",
    "# Create a date range for the forecast (from September 2, 2023, to September 2, 2024)\n",
    "forecast_start_date = pd.to_datetime(\"2023-09-02\")\n",
    "forecast_end_date = pd.to_datetime(\"2024-09-02\")\n",
    "forecast_dates = pd.date_range(start=forecast_start_date, end=forecast_end_date, freq='D')\n",
    "\n",
    "# Create an empty DataFrame to store the forecast\n",
    "forecast_df = pd.DataFrame(index=forecast_dates)\n",
    "\n",
    "# Fit the ARIMA model on historical data\n",
    "arima_model = ARIMA(bitcoin_data['Close'], order=(p, d, q))\n",
    "arima_model_fit = arima_model.fit()\n",
    "\n",
    "# Forecast Ethereum closing prices for the specified date range\n",
    "forecast_values = arima_model_fit.forecast(steps=len(forecast_dates))\n",
    "\n",
    "# Add the forecasted values to the DataFrame\n",
    "forecast_df['Forecasted_Close'] = forecast_values\n",
    "\n",
    "# Print the forecasted values\n",
    "print(\"Forecasted Ethereum Closing Prices:\")\n",
    "print(forecast_df)\n"
   ]
  },
  {
   "cell_type": "code",
   "execution_count": 132,
   "id": "3ed84fda",
   "metadata": {},
   "outputs": [
    {
     "name": "stderr",
     "output_type": "stream",
     "text": [
      "C:\\Users\\hp\\anaconda3\\lib\\site-packages\\statsmodels\\tsa\\base\\tsa_model.py:473: ValueWarning: No frequency information was provided, so inferred frequency D will be used.\n",
      "  self._init_dates(dates, freq)\n",
      "C:\\Users\\hp\\anaconda3\\lib\\site-packages\\statsmodels\\tsa\\base\\tsa_model.py:473: ValueWarning: No frequency information was provided, so inferred frequency D will be used.\n",
      "  self._init_dates(dates, freq)\n",
      "C:\\Users\\hp\\anaconda3\\lib\\site-packages\\statsmodels\\tsa\\base\\tsa_model.py:473: ValueWarning: No frequency information was provided, so inferred frequency D will be used.\n",
      "  self._init_dates(dates, freq)\n"
     ]
    },
    {
     "name": "stdout",
     "output_type": "stream",
     "text": [
      "Ethereum Closing Price Forecast for the Next 12 Days:\n",
      "            Point_Forecast  Lower_Bound  Upper_Bound\n",
      "2023-09-03     1627.000792  1453.878826  1800.122758\n",
      "2023-09-04     1634.173377  1396.921879  1871.424876\n",
      "2023-09-05     1637.007425  1345.589516  1928.425335\n",
      "2023-09-06     1629.703248  1293.973325  1965.433171\n",
      "2023-09-07     1631.952859  1255.318821  2008.586896\n",
      "2023-09-08     1634.173057  1224.956585  2043.389529\n",
      "2023-09-09     1636.263867  1191.981749  2080.545985\n",
      "2023-09-10     1627.032806  1152.861329  2101.204284\n",
      "2023-09-11     1635.766883  1133.060942  2138.472823\n",
      "2023-09-12     1634.231051  1105.111134  2163.350969\n",
      "2023-09-13     1632.264107  1076.382290  2188.145924\n",
      "2023-09-14     1630.127140  1049.736227  2210.518052\n"
     ]
    },
    {
     "name": "stderr",
     "output_type": "stream",
     "text": [
      "C:\\Users\\hp\\anaconda3\\lib\\site-packages\\statsmodels\\base\\model.py:607: ConvergenceWarning: Maximum Likelihood optimization failed to converge. Check mle_retvals\n",
      "  warnings.warn(\"Maximum Likelihood optimization failed to \"\n"
     ]
    }
   ],
   "source": [
    "import pandas as pd\n",
    "import numpy as np\n",
    "from statsmodels.tsa.arima.model import ARIMA\n",
    "\n",
    "# Load your Ethereum historical closing price data into a pandas DataFrame\n",
    "# Assuming you have a DataFrame named 'eth_data' with a DateTime index\n",
    "\n",
    "# Define the ARIMA model order (adjust as needed)\n",
    "p, d, q = 4, 1, 5\n",
    "# Create a date range for the forecast (next 12 days)\n",
    "forecast_start_date = pd.to_datetime(\"2023-09-03\")  # Assuming starting from September 3, 2023\n",
    "forecast_end_date = forecast_start_date + pd.DateOffset(days=11)  # Next 12 days\n",
    "forecast_dates = pd.date_range(start=forecast_start_date, end=forecast_end_date, freq='D')\n",
    "\n",
    "# Create an empty DataFrame to store the forecast\n",
    "forecast_df = pd.DataFrame(index=forecast_dates)\n",
    "\n",
    "# Fit the ARIMA model on historical data\n",
    "arima_model = ARIMA(ethereum_data['Close'], order=(p, d, q))\n",
    "arima_model_fit = arima_model.fit()\n",
    "\n",
    "# Forecast Ethereum closing prices for the specified date range\n",
    "forecast_values = arima_model_fit.forecast(steps=len(forecast_dates))\n",
    "\n",
    "# Calculate lower and upper bounds (assuming a 95% confidence interval)\n",
    "forecast_stderr = arima_model_fit.get_prediction(start=forecast_dates[0], end=forecast_dates[-1]).se_mean\n",
    "lower_bound = forecast_values - 1.96 * forecast_stderr  # Assuming a 95% confidence interval\n",
    "upper_bound = forecast_values + 1.96 * forecast_stderr  # Assuming a 95% confidence interval\n",
    "\n",
    "# Add the forecasted values, lower bound, and upper bound to the DataFrame\n",
    "forecast_df['Point_Forecast'] = forecast_values\n",
    "forecast_df['Lower_Bound'] = lower_bound\n",
    "forecast_df['Upper_Bound'] = upper_bound\n",
    "\n",
    "# Print the forecasted values, lower bound, and upper bound\n",
    "print(\"Ethereum Closing Price Forecast for the Next 12 Days:\")\n",
    "print(forecast_df)\n"
   ]
  },
  {
   "cell_type": "code",
   "execution_count": null,
   "id": "b27e43ad",
   "metadata": {},
   "outputs": [],
   "source": []
  }
 ],
 "metadata": {
  "kernelspec": {
   "display_name": "Python 3 (ipykernel)",
   "language": "python",
   "name": "python3"
  },
  "language_info": {
   "codemirror_mode": {
    "name": "ipython",
    "version": 3
   },
   "file_extension": ".py",
   "mimetype": "text/x-python",
   "name": "python",
   "nbconvert_exporter": "python",
   "pygments_lexer": "ipython3",
   "version": "3.10.9"
  }
 },
 "nbformat": 4,
 "nbformat_minor": 5
}
